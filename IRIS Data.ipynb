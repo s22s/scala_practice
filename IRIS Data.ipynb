{
 "cells": [
  {
   "cell_type": "markdown",
   "metadata": {},
   "source": [
    "# Goal of this exercise is to better understand the map, zip, flatMap, reduce, and fold methods in Scala with a simple data set.\n",
    "\n",
    "## Recreate Pearson Correlation Matrix\n",
    "* So to practice map, fold, zip, etc. again w/o relying too much on Sim's solution"
   ]
  },
  {
   "cell_type": "code",
   "execution_count": 1,
   "metadata": {
    "collapsed": false,
    "scrolled": true
   },
   "outputs": [
    {
     "data": {
      "text/plain": [
       "\u001b[32mimport \u001b[39m\u001b[36mscala.util.Random\n",
       "\u001b[39m\n",
       "\u001b[36mseq1\u001b[39m: \u001b[32mSeq\u001b[39m[\u001b[32mDouble\u001b[39m] = \u001b[33mList\u001b[39m(\n",
       "  \u001b[32m-0.02621587199930509\u001b[39m,\n",
       "  \u001b[32m-0.5988565582169093\u001b[39m,\n",
       "  \u001b[32m2.0153334167677848\u001b[39m,\n",
       "  \u001b[32m-1.5079830388457967\u001b[39m,\n",
       "  \u001b[32m0.3882963547739467\u001b[39m,\n",
       "  \u001b[32m-0.2012493088900946\u001b[39m,\n",
       "  \u001b[32m0.7519417767175839\u001b[39m,\n",
       "  \u001b[32m-0.2486259751106985\u001b[39m,\n",
       "  \u001b[32m-0.31826274453428394\u001b[39m,\n",
       "  \u001b[32m-0.507560149407706\u001b[39m,\n",
       "  \u001b[32m-1.693129457185314\u001b[39m,\n",
       "\u001b[33m...\u001b[39m\n",
       "\u001b[36mseq2\u001b[39m: \u001b[32mSeq\u001b[39m[\u001b[32mDouble\u001b[39m] = \u001b[33mList\u001b[39m(\n",
       "  \u001b[32m0.20584426469701886\u001b[39m,\n",
       "  \u001b[32m-0.9088442180418637\u001b[39m,\n",
       "  \u001b[32m1.3062387983612476\u001b[39m,\n",
       "  \u001b[32m0.2628230642989509\u001b[39m,\n",
       "  \u001b[32m-1.0063039569431265\u001b[39m,\n",
       "  \u001b[32m-0.3720657588005266\u001b[39m,\n",
       "  \u001b[32m-0.13207037158409038\u001b[39m,\n",
       "  \u001b[32m0.8457036132549793\u001b[39m,\n",
       "  \u001b[32m-0.210805008668713\u001b[39m,\n",
       "  \u001b[32m-0.9049437775532733\u001b[39m,\n",
       "  \u001b[32m-0.9663508903440864\u001b[39m,\n",
       "\u001b[33m...\u001b[39m"
      ]
     },
     "execution_count": 1,
     "metadata": {},
     "output_type": "execute_result"
    }
   ],
   "source": [
    "// Generate two sequences of random numbers to work with\n",
    "import scala.util.Random\n",
    "val seq1 = Seq.fill(100)(Random.nextGaussian)\n",
    "val seq2 = Seq.fill(100)(Random.nextGaussian)"
   ]
  },
  {
   "cell_type": "code",
   "execution_count": 35,
   "metadata": {
    "collapsed": false,
    "scrolled": true
   },
   "outputs": [
    {
     "data": {
      "text/plain": [
       "defined \u001b[32mfunction\u001b[39m \u001b[36msum\u001b[39m\n",
       "defined \u001b[32mfunction\u001b[39m \u001b[36mmean\u001b[39m\n",
       "defined \u001b[32mfunction\u001b[39m \u001b[36msumOfSquares\u001b[39m\n",
       "defined \u001b[32mfunction\u001b[39m \u001b[36mvariance\u001b[39m\n",
       "defined \u001b[32mfunction\u001b[39m \u001b[36mstddev\u001b[39m\n",
       "defined \u001b[32mfunction\u001b[39m \u001b[36mzscore\u001b[39m\n",
       "defined \u001b[32mfunction\u001b[39m \u001b[36mpearsonCorrelation\u001b[39m"
      ]
     },
     "execution_count": 35,
     "metadata": {},
     "output_type": "execute_result"
    }
   ],
   "source": [
    "// Functions for creating Pearson correlation matrix\n",
    "def sum(x: Seq[Double]) = {\n",
    "    x.sum\n",
    "}\n",
    "def mean(x: Seq[Double]) = {\n",
    "    sum(x) / x.length\n",
    "}\n",
    "def sumOfSquares(x: Seq[Double]) = {\n",
    "    x.fold(0.0)((a,b) => a + b*b)\n",
    "}\n",
    "def variance(x: Seq[Double]) = {\n",
    "    val meanx = mean(x)\n",
    "    sumOfSquares(x) / x.length - meanx * meanx\n",
    "}\n",
    "def stddev(x: Seq[Double]) = {\n",
    "    math.sqrt(variance(x))\n",
    "}\n",
    "def zscore(x: Seq[Double]) = {\n",
    "    val meanx = mean(x)\n",
    "    val sigx = stddev(x)\n",
    "    x.map(a => (a - meanx) / sigx)\n",
    "}\n",
    "def pearsonCorrelation(x: Seq[Double], y:Seq[Double]) = {\n",
    "    val pairs = zscore(x).zip(zscore(y))\n",
    "    val prdt = pairs.foldLeft(0.0)((a,b) => a + b._1 * b._2)\n",
    "    prdt / x.length\n",
    "}"
   ]
  },
  {
   "cell_type": "code",
   "execution_count": 36,
   "metadata": {
    "collapsed": false
   },
   "outputs": [
    {
     "data": {
      "text/plain": [
       "\u001b[36mres35_0\u001b[39m: \u001b[32mDouble\u001b[39m = \u001b[32m1.0\u001b[39m\n",
       "\u001b[36mres35_1\u001b[39m: \u001b[32mDouble\u001b[39m = \u001b[32m0.9999999999999993\u001b[39m\n",
       "\u001b[36mres35_2\u001b[39m: \u001b[32mDouble\u001b[39m = \u001b[32m0.27675173576163115\u001b[39m"
      ]
     },
     "execution_count": 36,
     "metadata": {},
     "output_type": "execute_result"
    }
   ],
   "source": [
    "pearsonCorrelation(seq1, seq1)\n",
    "pearsonCorrelation(seq2, seq2)\n",
    "pearsonCorrelation(seq1, seq2)"
   ]
  },
  {
   "cell_type": "markdown",
   "metadata": {},
   "source": [
    "## Read in Iris Data\n",
    "* Read through lines in csv file\n",
    "* Store each column as separate array"
   ]
  },
  {
   "cell_type": "code",
   "execution_count": 77,
   "metadata": {
    "collapsed": false,
    "scrolled": false
   },
   "outputs": [
    {
     "data": {
      "text/plain": [
       "\u001b[36mcsvSource\u001b[39m: \u001b[32mio\u001b[39m.\u001b[32mBufferedSource\u001b[39m = empty iterator\n",
       "\u001b[32mimport \u001b[39m\u001b[36mscala.collection.mutable.ArrayBuffer\n",
       "\u001b[39m\n",
       "\u001b[36msepal_length\u001b[39m: \u001b[32mArrayBuffer\u001b[39m[\u001b[32mDouble\u001b[39m] = \u001b[33mArrayBuffer\u001b[39m(\n",
       "  \u001b[32m5.1\u001b[39m,\n",
       "  \u001b[32m4.9\u001b[39m,\n",
       "  \u001b[32m4.7\u001b[39m,\n",
       "  \u001b[32m4.6\u001b[39m,\n",
       "  \u001b[32m5.0\u001b[39m,\n",
       "  \u001b[32m5.4\u001b[39m,\n",
       "  \u001b[32m4.6\u001b[39m,\n",
       "  \u001b[32m5.0\u001b[39m,\n",
       "  \u001b[32m4.4\u001b[39m,\n",
       "  \u001b[32m4.9\u001b[39m,\n",
       "  \u001b[32m5.4\u001b[39m,\n",
       "\u001b[33m...\u001b[39m\n",
       "\u001b[36msepal_width\u001b[39m: \u001b[32mArrayBuffer\u001b[39m[\u001b[32mDouble\u001b[39m] = \u001b[33mArrayBuffer\u001b[39m(\n",
       "  \u001b[32m3.5\u001b[39m,\n",
       "  \u001b[32m3.0\u001b[39m,\n",
       "  \u001b[32m3.2\u001b[39m,\n",
       "  \u001b[32m3.1\u001b[39m,\n",
       "  \u001b[32m3.6\u001b[39m,\n",
       "  \u001b[32m3.9\u001b[39m,\n",
       "  \u001b[32m3.4\u001b[39m,\n",
       "  \u001b[32m3.4\u001b[39m,\n",
       "  \u001b[32m2.9\u001b[39m,\n",
       "  \u001b[32m3.1\u001b[39m,\n",
       "  \u001b[32m3.7\u001b[39m,\n",
       "\u001b[33m...\u001b[39m\n",
       "\u001b[36mpetal_length\u001b[39m: \u001b[32mArrayBuffer\u001b[39m[\u001b[32mDouble\u001b[39m] = \u001b[33mArrayBuffer\u001b[39m(\n",
       "  \u001b[32m1.4\u001b[39m,\n",
       "  \u001b[32m1.4\u001b[39m,\n",
       "  \u001b[32m1.3\u001b[39m,\n",
       "  \u001b[32m1.5\u001b[39m,\n",
       "  \u001b[32m1.4\u001b[39m,\n",
       "  \u001b[32m1.7\u001b[39m,\n",
       "  \u001b[32m1.4\u001b[39m,\n",
       "  \u001b[32m1.5\u001b[39m,\n",
       "  \u001b[32m1.4\u001b[39m,\n",
       "  \u001b[32m1.5\u001b[39m,\n",
       "  \u001b[32m1.5\u001b[39m,\n",
       "\u001b[33m...\u001b[39m\n",
       "\u001b[36mpetal_width\u001b[39m: \u001b[32mArrayBuffer\u001b[39m[\u001b[32mDouble\u001b[39m] = \u001b[33mArrayBuffer\u001b[39m(\n",
       "  \u001b[32m0.2\u001b[39m,\n",
       "  \u001b[32m0.2\u001b[39m,\n",
       "  \u001b[32m0.2\u001b[39m,\n",
       "  \u001b[32m0.2\u001b[39m,\n",
       "  \u001b[32m0.2\u001b[39m,\n",
       "  \u001b[32m0.4\u001b[39m,\n",
       "  \u001b[32m0.3\u001b[39m,\n",
       "  \u001b[32m0.2\u001b[39m,\n",
       "  \u001b[32m0.2\u001b[39m,\n",
       "  \u001b[32m0.1\u001b[39m,\n",
       "  \u001b[32m0.2\u001b[39m,\n",
       "\u001b[33m...\u001b[39m\n",
       "\u001b[36miris_class\u001b[39m: \u001b[32mArrayBuffer\u001b[39m[\u001b[32mString\u001b[39m] = \u001b[33mArrayBuffer\u001b[39m(\n",
       "  \u001b[32m\"Iris-setosa\"\u001b[39m,\n",
       "  \u001b[32m\"Iris-setosa\"\u001b[39m,\n",
       "  \u001b[32m\"Iris-setosa\"\u001b[39m,\n",
       "  \u001b[32m\"Iris-setosa\"\u001b[39m,\n",
       "  \u001b[32m\"Iris-setosa\"\u001b[39m,\n",
       "  \u001b[32m\"Iris-setosa\"\u001b[39m,\n",
       "  \u001b[32m\"Iris-setosa\"\u001b[39m,\n",
       "  \u001b[32m\"Iris-setosa\"\u001b[39m,\n",
       "  \u001b[32m\"Iris-setosa\"\u001b[39m,\n",
       "  \u001b[32m\"Iris-setosa\"\u001b[39m,\n",
       "  \u001b[32m\"Iris-setosa\"\u001b[39m,\n",
       "\u001b[33m...\u001b[39m\n",
       "\u001b[36miris_class2\u001b[39m: \u001b[32mArrayBuffer\u001b[39m[\u001b[32mString\u001b[39m] = \u001b[33mArrayBuffer\u001b[39m(\n",
       "  \u001b[32m\"setosa\"\u001b[39m,\n",
       "  \u001b[32m\"setosa\"\u001b[39m,\n",
       "  \u001b[32m\"setosa\"\u001b[39m,\n",
       "  \u001b[32m\"setosa\"\u001b[39m,\n",
       "  \u001b[32m\"setosa\"\u001b[39m,\n",
       "  \u001b[32m\"setosa\"\u001b[39m,\n",
       "  \u001b[32m\"setosa\"\u001b[39m,\n",
       "  \u001b[32m\"setosa\"\u001b[39m,\n",
       "  \u001b[32m\"setosa\"\u001b[39m,\n",
       "  \u001b[32m\"setosa\"\u001b[39m,\n",
       "  \u001b[32m\"setosa\"\u001b[39m,\n",
       "\u001b[33m...\u001b[39m"
      ]
     },
     "execution_count": 77,
     "metadata": {},
     "output_type": "execute_result"
    }
   ],
   "source": [
    "// csv file\n",
    "val csvSource = io.Source.fromFile(\"/Users/Kim/Documents/data/Test Data Sets/iris.csv\")\n",
    "// initialize output arrays for each column\n",
    "import scala.collection.mutable.ArrayBuffer\n",
    "val sepal_length = ArrayBuffer[Double]()\n",
    "val sepal_width = ArrayBuffer[Double]()\n",
    "val petal_length = ArrayBuffer[Double]()\n",
    "val petal_width = ArrayBuffer[Double]()\n",
    "val iris_class = ArrayBuffer[String]()\n",
    "for (line <- csvSource.getLines.drop(1)) {\n",
    "    val cols = line.split(\",\").map(_.trim)\n",
    "    //println(cols(0).toDouble)\n",
    "    sepal_length += cols(0).toDouble\n",
    "    sepal_width += cols(1).toDouble\n",
    "    petal_length += cols(2).toDouble\n",
    "    petal_width += cols(3).toDouble\n",
    "    iris_class += cols(4)\n",
    "//    println(s\"${cols(0)}|${cols(1)}|${cols(2)}|${cols(3)}|${cols(4)}\")\n",
    "}\n",
    "//csvSource.close\n",
    "val iris_class2 = for (item <- iris_class) yield item.replace(\"Iris-\",\"\")"
   ]
  },
  {
   "cell_type": "markdown",
   "metadata": {},
   "source": [
    "## Example Statistics\n",
    "\n",
    "### 1: Compute average Eulidean distance between two arrays"
   ]
  },
  {
   "cell_type": "code",
   "execution_count": 87,
   "metadata": {
    "collapsed": false
   },
   "outputs": [
    {
     "data": {
      "text/plain": [
       "defined \u001b[32mfunction\u001b[39m \u001b[36mcolMean\u001b[39m\n",
       "defined \u001b[32mfunction\u001b[39m \u001b[36msquaredMeanDiff\u001b[39m\n",
       "defined \u001b[32mfunction\u001b[39m \u001b[36mavgEuclideanDistance\u001b[39m"
      ]
     },
     "execution_count": 87,
     "metadata": {},
     "output_type": "execute_result"
    }
   ],
   "source": [
    "def colMean (x: ArrayBuffer[Double]) = {\n",
    "    x.sum / x.length\n",
    "}\n",
    "def squaredMeanDiff (x: ArrayBuffer[Double]) = {\n",
    "    val xMean = colMean(x)\n",
    "    x.map(item => item - xMean).map(item => item * item)\n",
    "}\n",
    "def avgEuclideanDistance (x: ArrayBuffer[Double], y: ArrayBuffer[Double]) = {\n",
    "    val xySqDff = squaredMeanDiff(x).zip(squaredMeanDiff(y))\n",
    "    val sumDist = xySqDff.foldLeft(0.0)((total,pair) => total + math.sqrt(pair._1 + pair._2) )\n",
    "    sumDist / x.length\n",
    "}"
   ]
  },
  {
   "cell_type": "code",
   "execution_count": 89,
   "metadata": {
    "collapsed": false
   },
   "outputs": [
    {
     "data": {
      "text/plain": [
       "\u001b[36mres88\u001b[39m: \u001b[32mDouble\u001b[39m = \u001b[32m0.8349878501506484\u001b[39m"
      ]
     },
     "execution_count": 89,
     "metadata": {},
     "output_type": "execute_result"
    }
   ],
   "source": [
    "avgEuclideanDistance(sepal_length, sepal_width)"
   ]
  }
 ],
 "metadata": {
  "anaconda-cloud": {},
  "kernelspec": {
   "display_name": "Scala",
   "language": "scala",
   "name": "scala"
  },
  "language_info": {
   "codemirror_mode": "text/x-scala",
   "file_extension": ".scala",
   "mimetype": "text/x-scala",
   "name": "scala211",
   "nbconvert_exporter": "scala",
   "pygments_lexer": "scala",
   "version": "2.11.8"
  }
 },
 "nbformat": 4,
 "nbformat_minor": 1
}
